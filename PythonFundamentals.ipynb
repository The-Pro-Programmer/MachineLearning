{
 "cells": [
  {
   "cell_type": "code",
   "execution_count": 5,
   "id": "cb576a89",
   "metadata": {},
   "outputs": [
    {
     "name": "stdout",
     "output_type": "stream",
     "text": [
      "Enter a number1\n",
      "Your input:  1\n"
     ]
    }
   ],
   "source": [
    "#Write a program to accept user input and display it.\n",
    "num = int(input('Enter a number'))\n",
    "print('Your input: ', num)"
   ]
  },
  {
   "cell_type": "code",
   "execution_count": 6,
   "id": "046a1731",
   "metadata": {},
   "outputs": [
    {
     "name": "stdout",
     "output_type": "stream",
     "text": [
      "Enter strings: abc pqr\n",
      "Input Strings:  abc pqr\n"
     ]
    }
   ],
   "source": [
    "str1, str2 = input('Enter strings: ').split()\n",
    "print('Input Strings: ', str1, str2)"
   ]
  },
  {
   "cell_type": "code",
   "execution_count": 2,
   "id": "063dd536",
   "metadata": {},
   "outputs": [],
   "source": [
    "arr = [10, 11, 12, 13, 14]"
   ]
  },
  {
   "cell_type": "code",
   "execution_count": 3,
   "id": "64bd36e3",
   "metadata": {},
   "outputs": [
    {
     "name": "stdout",
     "output_type": "stream",
     "text": [
      "First Element:  10\n",
      "Last Eelement:  14\n"
     ]
    }
   ],
   "source": [
    "print('First Element: ', arr[0])\n",
    "print('Last Eelement: ', arr[-1])"
   ]
  },
  {
   "cell_type": "code",
   "execution_count": 4,
   "id": "32e7444d",
   "metadata": {},
   "outputs": [
    {
     "name": "stdout",
     "output_type": "stream",
     "text": [
      "Original list:  [10, 11, 12, 13, 14]\n",
      "Sublist:  [12, 13, 14]\n"
     ]
    }
   ],
   "source": [
    "sublist1 = [item for item in arr if item >=12]\n",
    "print('Original list: ', arr)\n",
    "print('Sublist: ', sublist1)"
   ]
  },
  {
   "cell_type": "code",
   "execution_count": 11,
   "id": "2f19e660",
   "metadata": {},
   "outputs": [
    {
     "name": "stdout",
     "output_type": "stream",
     "text": [
      "Original array:  [10, 11, 12, 10, -14]\n",
      "Indexing:  12\n",
      "Slicing [1:4]:  [11, 12, 10]\n",
      "Array after appending:  [10, 11, 12, 10, -14, 15]\n",
      "Array after extending:  [10, 11, 12, 10, -14, 15, 16, 17, 18]\n",
      "Array after inserting at 1 index:  [10, 9, 11, 12, 10, -14, 15, 16, 17, 18]\n",
      "Array after removing element 9:  [10, 11, 12, 10, -14, 15, 16, 17, 18]\n",
      "Sorted array:  [-14, 10, 10, 11, 12, 15, 16, 17, 18]\n",
      "Reversed array:  [18, 17, 16, 15, 12, 11, 10, 10, -14]\n"
     ]
    }
   ],
   "source": [
    "#List operations\n",
    "arr = [10, 11, 12, 10, -14]\n",
    "print('Original array: ', arr)\n",
    "print('Indexing: ', arr[2])\n",
    "print('Slicing [1:4]: ', arr[1:4])\n",
    "arr.append(15)\n",
    "print('Array after appending: ', arr)\n",
    "arr.extend([16, 17, 18])\n",
    "print('Array after extending: ', arr)\n",
    "arr.insert(1, 9)\n",
    "print('Array after inserting at 1 index: ', arr)\n",
    "arr.remove(9)\n",
    "print('Array after removing element 9: ', arr)\n",
    "arr.sort()\n",
    "print('Sorted array: ', arr)\n",
    "arr.reverse()\n",
    "print('Reversed array: ', arr)"
   ]
  },
  {
   "cell_type": "code",
   "execution_count": null,
   "id": "8df94f4f",
   "metadata": {},
   "outputs": [],
   "source": []
  }
 ],
 "metadata": {
  "kernelspec": {
   "display_name": "Python 3",
   "language": "python",
   "name": "python3"
  },
  "language_info": {
   "codemirror_mode": {
    "name": "ipython",
    "version": 3
   },
   "file_extension": ".py",
   "mimetype": "text/x-python",
   "name": "python",
   "nbconvert_exporter": "python",
   "pygments_lexer": "ipython3",
   "version": "3.8.8"
  }
 },
 "nbformat": 4,
 "nbformat_minor": 5
}
