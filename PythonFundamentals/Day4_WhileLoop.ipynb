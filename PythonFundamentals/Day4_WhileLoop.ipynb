{
 "cells": [
  {
   "cell_type": "code",
   "execution_count": 2,
   "id": "34ec2a2c",
   "metadata": {},
   "outputs": [
    {
     "name": "stdout",
     "output_type": "stream",
     "text": [
      "Original stack:  [10, 20, 30, 40, 50]\n",
      "Popped:  50\n",
      "Popped:  40\n",
      "Popped:  30\n",
      "Popped:  20\n",
      "Popped:  10\n"
     ]
    }
   ],
   "source": [
    "#popping elements in stack using while loop\n",
    "stack = [10, 20, 30, 40, 50]\n",
    "print('Original stack: ', stack)\n",
    "while stack:\n",
    "    top = stack.pop()\n",
    "    print(\"Popped: \", top)"
   ]
  },
  {
   "cell_type": "code",
   "execution_count": 6,
   "id": "5e68db65",
   "metadata": {},
   "outputs": [
    {
     "name": "stdout",
     "output_type": "stream",
     "text": [
      "Original Queue:  deque([10, 20, 30, 40, 50])\n",
      "Dequed Element:  10\n",
      "Dequed Element:  20\n",
      "Dequed Element:  30\n",
      "Dequed Element:  40\n",
      "Dequed Element:  50\n"
     ]
    }
   ],
   "source": [
    "#dequeing elements in queue using while loop\n",
    "\n",
    "from collections import deque\n",
    "\n",
    "stack = deque([10, 20, 30, 40, 50])\n",
    "print('Original Queue: ', stack)\n",
    "while stack:\n",
    "    end = stack.popleft()\n",
    "    print(\"Dequed Element: \", end)"
   ]
  },
  {
   "cell_type": "code",
   "execution_count": null,
   "id": "78f6f719",
   "metadata": {},
   "outputs": [],
   "source": []
  }
 ],
 "metadata": {
  "kernelspec": {
   "display_name": "Python 3",
   "language": "python",
   "name": "python3"
  },
  "language_info": {
   "codemirror_mode": {
    "name": "ipython",
    "version": 3
   },
   "file_extension": ".py",
   "mimetype": "text/x-python",
   "name": "python",
   "nbconvert_exporter": "python",
   "pygments_lexer": "ipython3",
   "version": "3.8.8"
  }
 },
 "nbformat": 4,
 "nbformat_minor": 5
}
