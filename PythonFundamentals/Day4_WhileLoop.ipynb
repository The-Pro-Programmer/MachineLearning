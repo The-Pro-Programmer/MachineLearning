{
 "cells": [
  {
   "cell_type": "code",
   "execution_count": null,
   "id": "cbf20aa5",
   "metadata": {},
   "outputs": [],
   "source": [
    "#popping elements in stack using while loop\n",
    "stack = [10, 20, 30, 40, 50]\n",
    "while stack:\n",
    "    top = stack.pop()\n",
    "    print(\"Popped: \")"
   ]
  }
 ],
 "metadata": {
  "kernelspec": {
   "display_name": "Python 3",
   "language": "python",
   "name": "python3"
  },
  "language_info": {
   "codemirror_mode": {
    "name": "ipython",
    "version": 3
   },
   "file_extension": ".py",
   "mimetype": "text/x-python",
   "name": "python",
   "nbconvert_exporter": "python",
   "pygments_lexer": "ipython3",
   "version": "3.8.8"
  }
 },
 "nbformat": 4,
 "nbformat_minor": 5
}
