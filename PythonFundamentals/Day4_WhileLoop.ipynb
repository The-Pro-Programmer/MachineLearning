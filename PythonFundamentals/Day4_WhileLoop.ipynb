{
 "cells": [
  {
   "cell_type": "code",
   "execution_count": 2,
   "id": "46229456",
   "metadata": {},
   "outputs": [
    {
     "name": "stdout",
     "output_type": "stream",
     "text": [
      "Original stack:  [10, 20, 30, 40, 50]\n",
      "Popped:  50\n",
      "Popped:  40\n",
      "Popped:  30\n",
      "Popped:  20\n",
      "Popped:  10\n"
     ]
    }
   ],
   "source": [
    "#popping elements in stack using while loop\n",
    "stack = [10, 20, 30, 40, 50]\n",
    "print('Original stack: ', stack)\n",
    "while stack:\n",
    "    top = stack.pop()\n",
    "    print(\"Popped: \", top)"
   ]
  },
  {
   "cell_type": "code",
   "execution_count": 6,
   "id": "30f10d38",
   "metadata": {},
   "outputs": [
    {
     "name": "stdout",
     "output_type": "stream",
     "text": [
      "Original Queue:  deque([10, 20, 30, 40, 50])\n",
      "Dequed Element:  10\n",
      "Dequed Element:  20\n",
      "Dequed Element:  30\n",
      "Dequed Element:  40\n",
      "Dequed Element:  50\n"
     ]
    }
   ],
   "source": [
    "#dequeing elements in queue using while loop\n",
    "\n",
    "from collections import deque\n",
    "\n",
    "stack = deque([10, 20, 30, 40, 50])\n",
    "print('Original Queue: ', stack)\n",
    "while stack:\n",
    "    end = stack.popleft()\n",
    "    print(\"Dequed Element: \", end)"
   ]
  },
  {
   "cell_type": "code",
   "execution_count": 9,
   "id": "b7acb7e3",
   "metadata": {},
   "outputs": [
    {
     "name": "stdout",
     "output_type": "stream",
     "text": [
      "Char at 0: t\n",
      "Char at 1: e\n",
      "Char at 2: s\n",
      "Char at 3: t\n",
      "Char at 4:  \n",
      "Char at 5: 1\n",
      "Char at 6: 2\n",
      "Char at 7: 3\n",
      "Char at 8: 4\n"
     ]
    }
   ],
   "source": [
    "#while loop for string\n",
    "text = 'test 1234'\n",
    "i = 0\n",
    "while i<len(text):\n",
    "    print(f'Char at {i}: {text[i]}')\n",
    "    i+=1"
   ]
  },
  {
   "cell_type": "code",
   "execution_count": 10,
   "id": "8c1beb10",
   "metadata": {},
   "outputs": [
    {
     "name": "stdout",
     "output_type": "stream",
     "text": [
      "name: Minu\n",
      "age: 12\n",
      "grade: A\n",
      "class: 6\n"
     ]
    }
   ],
   "source": [
    "#while loop for dictionary\n",
    "student = {\"name\": \"Minu\", \"age\": 12, \"grade\": \"A\", \"class\": 6}\n",
    "keys = list(student.keys())\n",
    "i = 0\n",
    "while i<len(keys):\n",
    "    key = keys[i]\n",
    "    print(f'{key}: {student[key]}')\n",
    "    i+=1"
   ]
  },
  {
   "cell_type": "code",
   "execution_count": 12,
   "id": "85d5abf0",
   "metadata": {},
   "outputs": [
    {
     "name": "stdout",
     "output_type": "stream",
     "text": [
      "apple\n",
      "banana\n",
      "cherry\n",
      "date\n"
     ]
    }
   ],
   "source": [
    "#while loop for tuple\n",
    "fruits = (\"apple\", \"banana\", \"cherry\", \"date\")\n",
    "\n",
    "i = 0\n",
    "\n",
    "while i<len(fruits):\n",
    "    print(f'{fruits[i]}')\n",
    "    i+=1"
   ]
  },
  {
   "cell_type": "code",
   "execution_count": null,
   "id": "55add12c",
   "metadata": {},
   "outputs": [],
   "source": []
  }
 ],
 "metadata": {
  "kernelspec": {
   "display_name": "Python 3",
   "language": "python",
   "name": "python3"
  },
  "language_info": {
   "codemirror_mode": {
    "name": "ipython",
    "version": 3
   },
   "file_extension": ".py",
   "mimetype": "text/x-python",
   "name": "python",
   "nbconvert_exporter": "python",
   "pygments_lexer": "ipython3",
   "version": "3.8.8"
  }
 },
 "nbformat": 4,
 "nbformat_minor": 5
}
