{
 "cells": [
  {
   "cell_type": "code",
   "execution_count": 1,
   "id": "837832ce",
   "metadata": {},
   "outputs": [
    {
     "name": "stdout",
     "output_type": "stream",
     "text": [
      "apple\n",
      "banana\n",
      "custard apple\n"
     ]
    }
   ],
   "source": [
    "#print items from loop\n",
    "fruits = ['apple', 'banana', 'custard apple']\n",
    "for fruit in fruits:\n",
    "    print(fruit)"
   ]
  },
  {
   "cell_type": "code",
   "execution_count": 3,
   "id": "75614e24",
   "metadata": {},
   "outputs": [
    {
     "name": "stdout",
     "output_type": "stream",
     "text": [
      "t\n",
      "e\n",
      "s\n",
      "t\n",
      " \n",
      "1\n",
      "2\n",
      "3\n",
      "4\n"
     ]
    }
   ],
   "source": [
    "#iterate over string\n",
    "test = \"test 1234\"\n",
    "for char in test:\n",
    "    print(char)"
   ]
  },
  {
   "cell_type": "code",
   "execution_count": 4,
   "id": "b245b4fb",
   "metadata": {},
   "outputs": [
    {
     "name": "stdout",
     "output_type": "stream",
     "text": [
      "t\n",
      "e\n",
      "s\n",
      "t\n"
     ]
    }
   ],
   "source": [
    "#iterate over string with break\n",
    "test = \"test 1234\"\n",
    "for char in test:\n",
    "    if (char==' '):\n",
    "        break\n",
    "    print(char)"
   ]
  },
  {
   "cell_type": "code",
   "execution_count": 6,
   "id": "f1b8e1e2",
   "metadata": {},
   "outputs": [
    {
     "name": "stdout",
     "output_type": "stream",
     "text": [
      "t\n",
      "e\n",
      "s\n",
      "t\n",
      "1\n",
      "2\n",
      "3\n",
      "4\n"
     ]
    }
   ],
   "source": [
    "#iterate over string with continue\n",
    "test = \"test 1234\"\n",
    "for char in test:\n",
    "    if (char==' '):\n",
    "        continue\n",
    "    else:\n",
    "        print(char)"
   ]
  },
  {
   "cell_type": "code",
   "execution_count": 7,
   "id": "d3fbc168",
   "metadata": {},
   "outputs": [
    {
     "name": "stdout",
     "output_type": "stream",
     "text": [
      "0\n",
      "1\n",
      "2\n",
      "3\n",
      "4\n"
     ]
    }
   ],
   "source": [
    "#for loop using range function\n",
    "for i in range(0, 5):\n",
    "    print(i)"
   ]
  },
  {
   "cell_type": "code",
   "execution_count": 10,
   "id": "c6fc035e",
   "metadata": {},
   "outputs": [
    {
     "name": "stdout",
     "output_type": "stream",
     "text": [
      "0\n",
      "3\n",
      "6\n",
      "9\n",
      "12\n",
      "For loop finished\n"
     ]
    }
   ],
   "source": [
    "#for loop using range function with step and for else\n",
    "for i in range(0, 15, 3):\n",
    "    print(i)\n",
    "else:\n",
    "    print('For loop finished')"
   ]
  },
  {
   "cell_type": "code",
   "execution_count": 14,
   "id": "a07621ce",
   "metadata": {},
   "outputs": [
    {
     "name": "stdout",
     "output_type": "stream",
     "text": [
      "4\n"
     ]
    }
   ],
   "source": [
    "#empty for loop for incrementing value of i\n",
    "for j in range(1, 5):\n",
    "    pass\n",
    "print(j)"
   ]
  },
  {
   "cell_type": "code",
   "execution_count": 18,
   "id": "6365f89e",
   "metadata": {},
   "outputs": [
    {
     "name": "stdout",
     "output_type": "stream",
     "text": [
      "Total using for loop:  150\n",
      "Total using sum():  150\n",
      "Total using compressed loop in sum():  150\n"
     ]
    }
   ],
   "source": [
    "# List of numbers\n",
    "numbers = [10, 20, 30, 40, 50]\n",
    "\n",
    "#sum using for loop\n",
    "total = 0\n",
    "for n in numbers:\n",
    "    total += n\n",
    "else:\n",
    "    print(\"Total using for loop: \", total)\n",
    "    total = 0\n",
    "    \n",
    "print(\"Total using sum(): \", sum(numbers))\n",
    "\n",
    "total = sum([num for num in numbers])\n",
    "print(\"Total using compressed loop in sum(): \", total) "
   ]
  },
  {
   "cell_type": "code",
   "execution_count": null,
   "id": "2f91f0e0",
   "metadata": {},
   "outputs": [],
   "source": []
  }
 ],
 "metadata": {
  "kernelspec": {
   "display_name": "Python 3",
   "language": "python",
   "name": "python3"
  },
  "language_info": {
   "codemirror_mode": {
    "name": "ipython",
    "version": 3
   },
   "file_extension": ".py",
   "mimetype": "text/x-python",
   "name": "python",
   "nbconvert_exporter": "python",
   "pygments_lexer": "ipython3",
   "version": "3.8.8"
  }
 },
 "nbformat": 4,
 "nbformat_minor": 5
}
