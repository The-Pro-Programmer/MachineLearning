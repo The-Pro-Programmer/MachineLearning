{
 "cells": [
  {
   "cell_type": "code",
   "execution_count": 4,
   "id": "51120521",
   "metadata": {},
   "outputs": [
    {
     "name": "stdout",
     "output_type": "stream",
     "text": [
      "Content is written in sample.txt\n"
     ]
    }
   ],
   "source": [
    "import os\n",
    "\n",
    "fileName = \"sample.txt\"\n",
    "\n",
    "#Writing into file\n",
    "with open(fileName, \"w\") as file:\n",
    "    file.write(\"first line\")\n",
    "    file.write(\"\\nnext line\")\n",
    "print(f\"Content is written in {fileName}\")"
   ]
  },
  {
   "cell_type": "code",
   "execution_count": 11,
   "id": "af9f1899",
   "metadata": {},
   "outputs": [
    {
     "name": "stdout",
     "output_type": "stream",
     "text": [
      "file not found\n"
     ]
    }
   ],
   "source": [
    "#Reading from file\n",
    "if os.path.exists(fileName):\n",
    "    print(f\"Reading from file {fileName}\")\n",
    "    with open(fileName, \"r\") as file:\n",
    "        print(file.read())\n",
    "else:\n",
    "    print(\"file not found\")"
   ]
  },
  {
   "cell_type": "code",
   "execution_count": 8,
   "id": "86ed11b2",
   "metadata": {},
   "outputs": [
    {
     "name": "stdout",
     "output_type": "stream",
     "text": [
      "Content is appended in sample.txt\n"
     ]
    }
   ],
   "source": [
    "#Appending in the file\n",
    "if os.path.exists(fileName):\n",
    "    with open(fileName, \"a\") as file:\n",
    "        file.write(\"\\n\\nAppended line\")\n",
    "print(f\"Content is appended in {fileName}\")"
   ]
  },
  {
   "cell_type": "code",
   "execution_count": 10,
   "id": "9827d599",
   "metadata": {},
   "outputs": [
    {
     "name": "stdout",
     "output_type": "stream",
     "text": [
      "Deleted file\n"
     ]
    }
   ],
   "source": [
    "#Deleting file\n",
    "os.remove(fileName)\n",
    "print(\"Deleted file\")"
   ]
  },
  {
   "cell_type": "code",
   "execution_count": null,
   "id": "ff05b3f1",
   "metadata": {},
   "outputs": [],
   "source": []
  }
 ],
 "metadata": {
  "kernelspec": {
   "display_name": "Python 3",
   "language": "python",
   "name": "python3"
  },
  "language_info": {
   "codemirror_mode": {
    "name": "ipython",
    "version": 3
   },
   "file_extension": ".py",
   "mimetype": "text/x-python",
   "name": "python",
   "nbconvert_exporter": "python",
   "pygments_lexer": "ipython3",
   "version": "3.8.8"
  }
 },
 "nbformat": 4,
 "nbformat_minor": 5
}
